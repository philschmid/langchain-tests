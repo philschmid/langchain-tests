{
 "cells": [
  {
   "cell_type": "code",
   "execution_count": null,
   "metadata": {},
   "outputs": [],
   "source": [
    "!pip install -U duckduckgo_search\n",
    "!pip install anthropic"
   ]
  },
  {
   "cell_type": "code",
   "execution_count": null,
   "metadata": {},
   "outputs": [],
   "source": [
    "\n",
    "keywords = 'Wo steht der Dax?'\n",
    "results = ddg(keywords, region='de', safesearch='On', time='m', max_results=3)\n",
    "\n",
    "prompt=f\"\"\"Beantworten Sie die Frage am Ende des Textes anhand der folgenden Informationen:\n",
    "### Eingabe\n",
    "{{context}}\n",
    "Frage: {{question}}\n",
    "\"\"\"\n",
    "\n",
    "formatted_prompt=prompt.format(context=\"\\n\".join([r[\"body\"] for r in results]), question=keywords)\n",
    "print(formatted_prompt)"
   ]
  },
  {
   "cell_type": "code",
   "execution_count": null,
   "metadata": {},
   "outputs": [],
   "source": [
    "from langchain.utilities import GoogleSerperAPIWrapper\n",
    "from langchain.llms.openai import OpenAI\n",
    "from langchain.agents import initialize_agent, Tool\n",
    "from langchain.agents import AgentType\n",
    "from langchain.agents import load_tools\n",
    "\n",
    "llm = OpenAI(temperature=0)\n",
    "# search = GoogleSerperAPIWrapper()\n",
    "tools = load_tools([\"searx-search\"], searx_host=\"http://localhost:8888\", llm=llm)\n",
    "\n",
    "agent = initialize_agent(tools, llm, agent=AgentType.ZERO_SHOT_REACT_DESCRIPTION, verbose=True)\n",
    "# agent.run(\"What is the weather in Pomfret\") the reigning men's U.S. Open champion?\")"
   ]
  },
  {
   "cell_type": "code",
   "execution_count": null,
   "metadata": {},
   "outputs": [],
   "source": [
    "print(agent.agent.llm_chain.prompt.template)"
   ]
  },
  {
   "cell_type": "code",
   "execution_count": null,
   "metadata": {},
   "outputs": [],
   "source": [
    "agent.run(\"Wo steht der Dax?\")"
   ]
  },
  {
   "cell_type": "code",
   "execution_count": null,
   "metadata": {},
   "outputs": [],
   "source": [
    "from langchain.agents import tool\n",
    "from duckduckgo_search import ddg\n",
    "\n",
    "keywords = 'Wo steht der Dax?'\n",
    "\n",
    "@tool(\"search\", return_direct=True)\n",
    "def search_api(query: str) -> str:\n",
    "    \"\"\"Searches the API for the query.\"\"\"\n",
    "    results = ddg(query, region='de-de', safesearch='On', time='y', max_results=3)\n",
    "    return \"\\n\".join([r[\"body\"] for r in results])"
   ]
  },
  {
   "cell_type": "code",
   "execution_count": null,
   "metadata": {},
   "outputs": [],
   "source": [
    "from langchain.llms import Anthropic\n",
    "from langchain import PromptTemplate, LLMChain\n",
    "\n",
    "template = \"\"\"Question: {question}\n",
    "\n",
    "Answer: Let's think step by step.\"\"\"\n",
    "\n",
    "prompt = PromptTemplate(template=template, input_variables=[\"question\"])\n"
   ]
  },
  {
   "cell_type": "code",
   "execution_count": null,
   "metadata": {},
   "outputs": [],
   "source": [
    "from langchain.tools import BaseTool\n",
    "from langchain.agents import initialize_agent, AgentType\n",
    "from duckduckgo_search import ddg\n",
    "\n",
    "class CustomSearchTool(BaseTool):\n",
    "    name = \"Search\"\n",
    "    description = \"useful to search the web you need to answer questions about current events\"\n",
    "\n",
    "    def _run(self, query: str) -> str:\n",
    "        \"\"\"Use the tool.\"\"\"\n",
    "        return ddg(query, region='de-de', safesearch='On', time='y', max_results=3)\n",
    "    \n",
    "    async def _arun(self, query: str) -> str:\n",
    "        \"\"\"Use the tool asynchronously.\"\"\"\n",
    "        raise NotImplementedError(\"Duckduck go does not support async\")"
   ]
  },
  {
   "cell_type": "code",
   "execution_count": null,
   "metadata": {},
   "outputs": [],
   "source": [
    "from langchain.llms import HuggingFaceHub, OpenAI,Anthropic\n",
    "import os \n",
    "\n",
    "# llm = HuggingFaceHub(repo_id=\"google/flan-ul2\", huggingfacehub_api_token=os.environ[\"HF_API_KEY\"], model_kwargs={\"do_sample\": True, \"max_new_tokens\": 512, \"top_p\":0.8})\n",
    "# llm = HuggingFaceHub(repo_id=\"OpenAssistant/oasst-sft-1-pythia-12b\", huggingfacehub_api_token=os.environ[\"HF_API_KEY\"], model_kwargs={\"do_sample\": True, \"max_new_tokens\": 512, \"top_p\":0.8})\n",
    "# llm =OpenAI(temperature=0.7)\n",
    "\n",
    "llm = Anthropic()\n",
    "agent = initialize_agent([CustomSearchTool()], llm, agent=AgentType.ZERO_SHOT_REACT_DESCRIPTION, verbose=True)\n"
   ]
  },
  {
   "cell_type": "code",
   "execution_count": null,
   "metadata": {},
   "outputs": [],
   "source": [
    "agent.run(\"Who is the German chancellor?\")"
   ]
  },
  {
   "cell_type": "code",
   "execution_count": null,
   "metadata": {},
   "outputs": [],
   "source": []
  },
  {
   "cell_type": "code",
   "execution_count": null,
   "metadata": {},
   "outputs": [],
   "source": []
  }
 ],
 "metadata": {
  "kernelspec": {
   "display_name": "hf",
   "language": "python",
   "name": "python3"
  },
  "language_info": {
   "codemirror_mode": {
    "name": "ipython",
    "version": 3
   },
   "file_extension": ".py",
   "mimetype": "text/x-python",
   "name": "python",
   "nbconvert_exporter": "python",
   "pygments_lexer": "ipython3",
   "version": "3.8.12"
  },
  "orig_nbformat": 4
 },
 "nbformat": 4,
 "nbformat_minor": 2
}
