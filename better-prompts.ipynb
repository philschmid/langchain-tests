{
 "cells": [
  {
   "attachments": {},
   "cell_type": "markdown",
   "metadata": {},
   "source": [
    "## Notebook to create better prompts\n",
    "\n",
    "The idea of this notebook is to use `langchain` to improve promtps for GenerativeAI models to then create better results for text-generation or image-generation. \n",
    "The idea is inspired by the [PromptPerfect](https://promptperfect.jina.ai/) tool from jina.\n",
    "\n",
    "We are going to use the Self-Critique Chain with Constitutional AI to create better prompts for text-generation and image-generation"
   ]
  },
  {
   "cell_type": "code",
   "execution_count": null,
   "metadata": {},
   "outputs": [],
   "source": [
    "!pip install langchain huggingface_hub --quiet"
   ]
  },
  {
   "attachments": {},
   "cell_type": "markdown",
   "metadata": {},
   "source": [
    "## Few-shot prompting\n",
    "\n",
    "> Can you help me worsen the prompt below? The prompt is instruction and fed into a GPT model to answer the instruction. I want to generate bad prompts to use reinforcement learning later. Below are examples of what I want you to do: \n",
    "\n",
    "```\n",
    "You are asked to optimize user instruction to feed into a GPT model to answer them. The user input instruction need to be improved in a way that the GPT model generates higher-quality results, which are more helpful, harmless. \n",
    "Here are the requirements:\n",
    "1. Try not to repeat the verb for each instruction to maximize diversity.\n",
    "2. The language used for the instruction also should be diverse. For example, you should combine questions with imperative instrucitons.\n",
    "3. The instructions should be in English.\n",
    "4. The instructions should be specific and clear. For example, do not ask the assistant to create general prompts.\n",
    "5. Avoid using complex language or jargon in the instruction prompt. This can confuse the GPT model and lead to less helpful responses. Use simple and clear language to ensure that the model understands what you are asking for.\n",
    "6. Providing examples of the type of response you are looking for can help the GPT model generate more relevant and helpful responses. For example, if you are asking for tips on staying healthy, provide a few examples of what a good tip might look like.\n",
    "7. Consider the length and complexity of the prompt: It's important to balance the length and complexity of the instruction prompt with the desired quality of the response. A shorter and simpler prompt may lead to more concise and focused responses, while a longer and more complex prompt may allow for more nuanced and detailed responses.\n",
    "\n",
    "Here are some examples of user prompts and improved prompts:\n",
    "user: Give three tips for staying healthy.\n",
    "optimized: Please provide three practical and actionable tips for maintaining good health. Your response should include specific actions that can be taken to promote physical, mental, and emotional well-being. Consider including advice related to exercise, nutrition, stress management, and other lifestyle factors that can impact overall health.\n",
    "user: create a story with only words less than 3 letters.\n",
    "optimized: Please create a short story using only words that are less than three letters long. Your story should be creative and engaging, using simple language to convey complex ideas. You may use punctuation marks as needed to enhance the flow of your story. Your response should demonstrate an ability to communicate effectively with limited vocabulary, while still conveying a coherent narrative. Please ensure that your story has a clear beginning, middle, and end, and includes characters, conflict or tension, and resolution.\n",
    "--- \n",
    "user: summarize the news article below\n",
    "```\n"
   ]
  },
  {
   "cell_type": "code",
   "execution_count": 8,
   "metadata": {},
   "outputs": [
    {
     "name": "stdout",
     "output_type": "stream",
     "text": [
      "You are asked to optimize user instruction to feed into a GPT model to answer them. The user input instruction need to be improved in a way that the GPT model generates higher-quality results, which are more helpful, harmless. \n",
      "Here are the requirements:\n",
      "1. Try not to repeat the verb for each instruction to maximize diversity.\n",
      "2. The language used for the instruction also should be diverse. For example, you should combine questions with imperative instrucitons.\n",
      "3. The instructions should be in English.\n",
      "4. The instructions should be specific and clear. For example, do not ask the assistant to create general prompts.\n",
      "5. Avoid using complex language or jargon in the instruction prompt. This can confuse the GPT model and lead to less helpful responses. Use simple and clear language to ensure that the model understands what you are asking for.\n",
      "6. Providing examples of the type of response you are looking for can help the GPT model generate more relevant and helpful responses. For example, if you are asking for tips on staying healthy, provide a few examples of what a good tip might look like.\n",
      "7. Consider the length and complexity of the prompt: It's important to balance the length and complexity of the instruction prompt with the desired quality of the response. A shorter and simpler prompt may lead to more concise and focused responses, while a longer and more complex prompt may allow for more nuanced and detailed responses.\n",
      "\n",
      "Here are some examples of user prompts and improved prompts:\n",
      "user: Give three tips for staying healthy.\n",
      "optimized: Please provide three practical and actionable tips for maintaining good health. Your response should include specific actions that can be taken to promote physical, mental, and emotional well-being. Consider including advice related to exercise, nutrition, stress management, and other lifestyle factors that can impact overall health.\n",
      "user: create a story with only words less than 3 letters.\n",
      "optimized: lease create a short story using only words that are less than three letters long. Your story should be creative and engaging, using simple language to convey complex ideas. You may use punctuation marks as needed to enhance the flow of your story. Your response should demonstrate an ability to communicate effectively with limited vocabulary, while still conveying a coherent narrative. Please ensure that your story has a clear beginning, middle, and end, and includes characters, conflict or tension, and resolution.\n",
      "user: Describe the function of a computer motherboard\n",
      "optimized:\n"
     ]
    }
   ],
   "source": [
    "from langchain import PromptTemplate, FewShotPromptTemplate\n",
    "\n",
    "\n",
    "prefix_prompt=\"\"\"You are asked to optimize user instruction to feed into a GPT model to answer them. The user input instruction need to be improved in a way that the GPT model generates higher-quality results, which are more helpful, harmless. \n",
    "Here are the requirements:\n",
    "1. Try not to repeat the verb for each instruction to maximize diversity.\n",
    "2. The language used for the instruction also should be diverse. For example, you should combine questions with imperative instrucitons.\n",
    "3. The instructions should be in English.\n",
    "4. The instructions should be specific and clear. For example, do not ask the assistant to create general prompts.\n",
    "5. Avoid using complex language or jargon in the instruction prompt. This can confuse the GPT model and lead to less helpful responses. Use simple and clear language to ensure that the model understands what you are asking for.\n",
    "6. Providing examples of the type of response you are looking for can help the GPT model generate more relevant and helpful responses. For example, if you are asking for tips on staying healthy, provide a few examples of what a good tip might look like.\n",
    "7. Consider the length and complexity of the prompt: It's important to balance the length and complexity of the instruction prompt with the desired quality of the response. A shorter and simpler prompt may lead to more concise and focused responses, while a longer and more complex prompt may allow for more nuanced and detailed responses.\n",
    "\n",
    "Here are some examples of user prompts and improved prompts:\"\"\"\n",
    "suffux=\"user: {input}\\optimized:\"\n",
    "\n",
    "# First, create the list of few shot examples.\n",
    "examples = [\n",
    "    {\"user\": \"Give three tips for staying healthy.\",\n",
    "     \"optimized\": \"Please provide three practical and actionable tips for maintaining good health. Your response should include specific actions that can be taken to promote physical, mental, and emotional well-being. Consider including advice related to exercise, nutrition, stress management, and other lifestyle factors that can impact overall health.\"},\n",
    "    {\"user\": \"create a story with only words less than 3 letters.\", \"optimized\": \"lease create a short story using only words that are less than three letters long. Your story should be creative and engaging, using simple language to convey complex ideas. You may use punctuation marks as needed to enhance the flow of your story. Your response should demonstrate an ability to communicate effectively with limited vocabulary, while still conveying a coherent narrative. Please ensure that your story has a clear beginning, middle, and end, and includes characters, conflict or tension, and resolution.\"},\n",
    "]\n",
    "\n",
    "# Next, we specify the template to format the examples we have provided.\n",
    "# We use the `PromptTemplate` class for this.\n",
    "example_formatter_template = \"\"\"user: {user}\n",
    "optimized: {optimized}\"\"\"\n",
    "example_prompt = PromptTemplate(\n",
    "    input_variables=[\"user\", \"optimized\"],\n",
    "    template=example_formatter_template,\n",
    ")\n",
    "\n",
    "# Finally, we create the `FewShotPromptTemplate` object.\n",
    "few_shot_prompt = FewShotPromptTemplate(\n",
    "    # These are the examples we want to insert into the prompt.\n",
    "    examples=examples,\n",
    "    # This is how we want to format the examples when we insert them into the prompt.\n",
    "    example_prompt=example_prompt,\n",
    "    # The prefix is some text that goes before the examples in the prompt.\n",
    "    # Usually, this consists of intructions.\n",
    "    prefix=prefix_prompt,\n",
    "    # The suffix is some text that goes after the examples in the prompt.\n",
    "    # Usually, this is where the user input will go\n",
    "    suffix=\"user: {input}\\noptimized:\",\n",
    "    # The input variables are the variables that the overall prompt expects.\n",
    "    input_variables=[\"input\"],\n",
    "    # The example_separator is the string we will use to join the prefix, examples, and suffix together with.\n",
    "    example_separator=\"\\n\",\n",
    ")\n",
    "\n",
    "# We can now generate a prompt using the `format` method.\n",
    "print(few_shot_prompt.format(input=\"Describe the function of a computer motherboard\"))\n",
    "# -> Give the antonym of every input"
   ]
  },
  {
   "cell_type": "code",
   "execution_count": 13,
   "metadata": {},
   "outputs": [],
   "source": [
    "import os \n",
    "os.environ = {**os.environ, **{env.split(\"=\")[0]: env.split(\"=\")[1].replace(\"\\n\",\"\") for env in open(\".env\", \"r\").readlines()}}"
   ]
  },
  {
   "cell_type": "code",
   "execution_count": 45,
   "metadata": {},
   "outputs": [],
   "source": [
    "from langchain.llms import OpenAI\n",
    "llm = OpenAI()\n",
    "\n",
    "res = llm(few_shot_prompt.format(input=\"Write about how to house train a dog.\"))"
   ]
  },
  {
   "cell_type": "code",
   "execution_count": 46,
   "metadata": {},
   "outputs": [
    {
     "name": "stdout",
     "output_type": "stream",
     "text": [
      " Please provide detailed instructions on how to house train a dog. Your response should include clear steps that can be taken to help a dog learn the appropriate behaviors for living in a home environment. Consider including advice on setting boundaries, consistent reinforcement, and other strategies for teaching a dog how to use the restroom outside. In addition, provide tips on how to deal with any accidents that may occur during the training process.\n"
     ]
    }
   ],
   "source": [
    "print(res)"
   ]
  },
  {
   "attachments": {},
   "cell_type": "markdown",
   "metadata": {},
   "source": [
    "## Result on [tloen/alpaca-lora](https://huggingface.co/spaces/tloen/alpaca-lora)\n",
    "\n",
    "input: `Describe the function of a computer motherboard`  \n",
    "\n",
    "output: `A computer motherboard is the main circuit board of a computer. It is responsible for connecting all of the components of a computer, such as the processor, memory, graphics card, and other peripherals. It also provides power and data connections between the components.`\n",
    "\n",
    "---\n",
    "\n",
    "with improved prompt: `Please describe the function of a computer motherboard. Your response should include a detailed description of the motherboard's purpose and function, as well as a description of the components that make up the motherboard. Please ensure that your response is clear and concise, and that it includes all relevant information.` \n",
    "\n",
    "output: `A computer motherboard is the main circuit board of a computer system. It is responsible for connecting all of the components of a computer, such as the CPU, RAM, and other peripherals. The motherboard acts as the central nervous system of the computer, allowing all of the components to communicate with each other and with the CPU. The motherboard is also responsible for distributing power to the various components of the computer.`"
   ]
  },
  {
   "attachments": {},
   "cell_type": "markdown",
   "metadata": {},
   "source": [
    "## Use ChatGPT to improve prompts"
   ]
  },
  {
   "cell_type": "code",
   "execution_count": 40,
   "metadata": {},
   "outputs": [],
   "source": [
    "from langchain.prompts.chat import (\n",
    "    ChatPromptTemplate,\n",
    "    SystemMessagePromptTemplate,\n",
    "    HumanMessagePromptTemplate,\n",
    ")\n",
    "\n",
    "system_template=\"\"\"You are asked to optimize user instruction to feed into a GPT model to answer them. The user input instruction need to be improved in a way that the GPT model generates higher-quality results, which are more helpful, harmless. \n",
    "Here are the requirements:\n",
    "1. Try not to repeat the verb for each instruction to maximize diversity.\n",
    "2. The language used for the instruction also should be diverse. For example, you should combine questions with imperative instrucitons.\n",
    "3. The instructions should be in English.\n",
    "4. The instructions should be specific and clear. For example, do not ask the assistant to create general prompts.\n",
    "5. Avoid using complex language or jargon in the instruction prompt. This can confuse the GPT model and lead to less helpful responses. Use simple and clear language to ensure that the model understands what you are asking for.\n",
    "6. Providing examples of the type of response you are looking for can help the GPT model generate more relevant and helpful responses. For example, if you are asking for tips on staying healthy, provide a few examples of what a good tip might look like.\n",
    "7. Consider the length and complexity of the prompt: It's important to balance the length and complexity of the instruction prompt with the desired quality of the response. A shorter and simpler prompt may lead to more concise and focused responses, while a longer and more complex prompt may allow for more nuanced and detailed responses.\n",
    "\n",
    "Here are some examples of user prompts and improved prompts:\n",
    "user: Give three tips for staying healthy.\n",
    "optimized: Please provide three practical and actionable tips for maintaining good health. Your response should include specific actions that can be taken to promote physical, mental, and emotional well-being. Consider including advice related to exercise, nutrition, stress management, and other lifestyle factors that can impact overall health.\n",
    "user: create a story with only words less than 3 letters.\n",
    "optimized: lease create a short story using only words that are less than three letters long. Your story should be creative and engaging, using simple language to convey complex ideas. You may use punctuation marks as needed to enhance the flow of your story. Your response should demonstrate an ability to communicate effectively with limited vocabulary, while still conveying a coherent narrative. Please ensure that your story has a clear beginning, middle, and end, and includes characters, conflict or tension, and resolution.\n",
    "\"\"\"\n",
    "\n",
    "# We can now generate a prompt using the `format` method.\n",
    "system_message_prompt = SystemMessagePromptTemplate.from_template(system_template)\n",
    "human_template=\"user: {input}\\noptimized:\"\n",
    "human_message_prompt = HumanMessagePromptTemplate.from_template(human_template)\n",
    "\n",
    "chat_prompt = ChatPromptTemplate.from_messages([system_message_prompt, human_message_prompt])\n",
    "messages = chat_prompt.format_prompt(input=\"Describe the function of a computer motherboard\").to_messages()"
   ]
  },
  {
   "cell_type": "code",
   "execution_count": 44,
   "metadata": {},
   "outputs": [
    {
     "data": {
      "text/plain": [
       "'Please provide a clear and concise explanation of the purpose and function of a computer motherboard. Your response should describe how the motherboard serves as a central hub for connecting and coordinating different computer components, including the CPU, memory, input/output devices, and storage devices. Consider including examples of how the motherboard allocates resources, manages data transfer, and facilitates communication between different parts of the computer system. Please ensure that your explanation is comprehensive yet accessible, avoiding jargon or technical language that may be difficult for non-experts to understand.'"
      ]
     },
     "execution_count": 44,
     "metadata": {},
     "output_type": "execute_result"
    }
   ],
   "source": [
    "from langchain.chat_models import ChatOpenAI\n",
    "chat = ChatOpenAI()\n",
    "\n",
    "res = chat(messages)\n",
    "res.content"
   ]
  },
  {
   "attachments": {},
   "cell_type": "markdown",
   "metadata": {},
   "source": [
    "with improved prompt: `Please provide a concise and precise explanation of what a computer motherboard is and what its main functions are. Your response should be easy to understand and avoid using technical jargon. Consider including information about how a motherboard connects and controls the components of a computer, the types of components that can be installed on a motherboard, and the role of the motherboard in managing data and communication within a computer system.` \n",
    "\n",
    "output: `A computer motherboard is the main circuit board of a computer system. It is responsible for connecting and controlling the various components of a computer, such as the processor, memory, storage, and peripherals. The motherboard also acts as a central hub for data and communication within a computer system, allowing information to be transferred between the various components.`"
   ]
  },
  {
   "attachments": {},
   "cell_type": "markdown",
   "metadata": {},
   "source": [
    "## Constitution AI experiment\n",
    "\n",
    "TBD"
   ]
  },
  {
   "cell_type": "markdown",
   "metadata": {},
   "source": []
  },
  {
   "attachments": {},
   "cell_type": "markdown",
   "metadata": {},
   "source": [
    "# Image Prompt improvements\n",
    "\n",
    "There is already a models:\n",
    "-  https://huggingface.co/microsoft/Promptist\n",
    "-  https://huggingface.co/RamAnanth1/distilgpt2-sd-prompts"
   ]
  },
  {
   "cell_type": "code",
   "execution_count": 52,
   "metadata": {},
   "outputs": [
    {
     "name": "stdout",
     "output_type": "stream",
     "text": [
      "You are asked to optimize user inputs, which are then used to generate images. The user input need to be improved in a way that the image model generates higher-quality results. \n",
      "Here are some examples of user prompts and improved prompts:\n",
      "user: A rabbit is wearing a space suit.\n",
      "optimized: A rabbit is wearing a space suit, digital Art, Gregrutkowski, Trending cinematographic artstation.\n",
      "user: Several railroad tracks with one train passing by\n",
      "optimized: several railroad tracks with one train passing by, hyperdetailed, artstation, cgsociety, 8 k\n",
      "user: The roof is wet from the rain\n",
      "optimized: the roof is wet from the rain, intricate, elegant, highly detailed, digital painting, artstation, concept art, smooth, sharp focus, illustration,\n",
      "user: Cats dancing in a space club\n",
      "optimized: Cats dancing in a space club, digital painting, artstation, concept art, soft light, hdri, smooth, sharp focus, illustration, fantasy,\n",
      "user: a rocket launching into space\n",
      "optimized:\n"
     ]
    }
   ],
   "source": [
    "from langchain import PromptTemplate, FewShotPromptTemplate\n",
    "\n",
    "\n",
    "prefix_prompt=\"\"\"You are asked to optimize user inputs, which are then used to generate images. The user input need to be improved in a way that the image model generates higher-quality results. \n",
    "Here are some examples of user prompts and improved prompts:\"\"\"\n",
    "suffux=\"user: {input}\\optimized:\"\n",
    "\n",
    "# First, create the list of few shot examples.\n",
    "examples = [\n",
    "    {\"user\": \"A rabbit is wearing a space suit.\", \"optimized\": \"A rabbit is wearing a space suit, digital Art, Gregrutkowski, Trending cinematographic artstation.\"},\n",
    "    {\"user\": \"Several railroad tracks with one train passing by\", \"optimized\": \"several railroad tracks with one train passing by, hyperdetailed, artstation, cgsociety, 8 k\"},\n",
    "    {\"user\": \"The roof is wet from the rain\", \"optimized\": \"the roof is wet from the rain, intricate, elegant, highly detailed, digital painting, artstation, concept art, smooth, sharp focus, illustration,\"},\n",
    "    {\"user\": \"Cats dancing in a space club\", \"optimized\": \"Cats dancing in a space club, digital painting, artstation, concept art, soft light, hdri, smooth, sharp focus, illustration, fantasy,\"},\n",
    "    # {\"user\": \"temple in ruines, forest\", \"optimized\": \"a surreal digital painting artwork of a mysterious temple in ruins, deep in the dark forest with foggy atmosphere and colorful autumn leaves falling from trees, rendered in photoshop by artist WLOP, John Jiao, Kode Logic, Archan Nair, Ilya Kuvshinov, vibrant colors palette, subtle details, perfect composition, dynamic lighting effects –ar 4:3 –upbeta\"},\n",
    "]\n",
    "\n",
    "# Next, we specify the template to format the examples we have provided.\n",
    "# We use the `PromptTemplate` class for this.\n",
    "example_formatter_template = \"\"\"user: {user}\n",
    "optimized: {optimized}\"\"\"\n",
    "example_prompt = PromptTemplate(\n",
    "    input_variables=[\"user\", \"optimized\"],\n",
    "    template=example_formatter_template,\n",
    ")\n",
    "\n",
    "# Finally, we create the `FewShotPromptTemplate` object.\n",
    "few_shot_prompt = FewShotPromptTemplate(\n",
    "    # These are the examples we want to insert into the prompt.\n",
    "    examples=examples,\n",
    "    # This is how we want to format the examples when we insert them into the prompt.\n",
    "    example_prompt=example_prompt,\n",
    "    # The prefix is some text that goes before the examples in the prompt.\n",
    "    # Usually, this consists of intructions.\n",
    "    prefix=prefix_prompt,\n",
    "    # The suffix is some text that goes after the examples in the prompt.\n",
    "    # Usually, this is where the user input will go\n",
    "    suffix=\"user: {input}\\noptimized:\",\n",
    "    # The input variables are the variables that the overall prompt expects.\n",
    "    input_variables=[\"input\"],\n",
    "    # The example_separator is the string we will use to join the prefix, examples, and suffix together with.\n",
    "    example_separator=\"\\n\",\n",
    ")\n",
    "\n",
    "# We can now generate a prompt using the `format` method.\n",
    "print(few_shot_prompt.format(input=\"a rocket launching into space\"))\n",
    "# -> Give the antonym of every input"
   ]
  },
  {
   "cell_type": "code",
   "execution_count": 53,
   "metadata": {},
   "outputs": [],
   "source": [
    "from langchain.llms import OpenAI\n",
    "llm = OpenAI()\n",
    "\n",
    "res = llm(few_shot_prompt.format(input=\"a rocket launching into space\"))"
   ]
  },
  {
   "cell_type": "code",
   "execution_count": 54,
   "metadata": {},
   "outputs": [
    {
     "data": {
      "text/plain": [
       "' a rocket launching into space, digital painting, artstation, concept art, vivid colors, smooth, sharp focus, illustration, surreal, cosmic.'"
      ]
     },
     "execution_count": 54,
     "metadata": {},
     "output_type": "execute_result"
    }
   ],
   "source": [
    "res"
   ]
  },
  {
   "cell_type": "code",
   "execution_count": null,
   "metadata": {},
   "outputs": [],
   "source": [
    "a rocket launching into space. art station, ultra detailed. digital painting, artstation, concept art, smooth, sharp focus, illustration, art by artgerm and greg rutkowski and alphonse mucha and Wayne Barlowe\n",
    "a rocket launching into space, concept art, matte art, trending on artstation, highly detailed, intricate"
   ]
  }
 ],
 "metadata": {
  "kernelspec": {
   "display_name": "hf",
   "language": "python",
   "name": "python3"
  },
  "language_info": {
   "codemirror_mode": {
    "name": "ipython",
    "version": 3
   },
   "file_extension": ".py",
   "mimetype": "text/x-python",
   "name": "python",
   "nbconvert_exporter": "python",
   "pygments_lexer": "ipython3",
   "version": "3.8.12"
  },
  "orig_nbformat": 4
 },
 "nbformat": 4,
 "nbformat_minor": 2
}
