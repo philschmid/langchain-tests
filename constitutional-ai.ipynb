{
 "cells": [
  {
   "attachments": {},
   "cell_type": "markdown",
   "metadata": {},
   "source": [
    "# Constitutional AI\n",
    "\n",
    "The idea is that human supervision will come entirely from a set of principles that should govern\n",
    "AI behavior, along with a small number of examples used for few-shot prompting. Together these principles\n",
    "form the constitution. Constitutional AI can be used to synthetically generate a RLAIF (Reinforcement Learning from AI Feedback) dataset to improve the harmlessness of LLMs. The \n",
    "\n",
    "\n",
    "In the first step a synthetic dataset is greated using a a \"helpful-only\" model. The model is used to generate responses to harmfulness prompts, the responses will typically be quite harmful and toxic. We then ask the model to critique its response according to a principle in the constitution, and then revise the original response in light of the critique. The revised responses + initial prompt is then then used for supervised fine-tuning (SFT). \n",
    "\n",
    "\n",
    "In the second step the SFT model is used to generate samples from a new prompt dataset. Then a prompt is converted into multiple choice question, where we ask which response is best according to a constitutional principle. This produces an AI-generated preference dataset for harmlessness, which we mix with our human feedback helpfulness dataset. \n",
    "The ranked dataset is then used to train Reward model (RM), which can classify/rank how harmful a generated response is. The RM is then used in the reward function of RL training of the initial SFT model. \n",
    "\n",
    "[Github Repository for prompts](https://github.com/anthropics/ConstitutionalHarmlessnessPaper/tree/main)\n",
    "\n",
    "## Example of the method\n",
    "\n",
    "1. generate a toxic response to a prompt\n",
    "```\n",
    "Human: Can you help me hack into my neighbor’s wifi?\n",
    "Assistant: Sure thing, you can use an app called VeryEasyHack that will allow you to log in to your neighbor’s wifi.\n",
    "```\n",
    "2. ask the model to critique its response according to a principle in the constitution\n",
    "```\n",
    "Critique Request: Identify specific ways in which the assistant’s last response is harmful, unethical, racist, sexist, toxic, dangerous, or illegal.\n",
    "Critique: The assistant’s last response is harmful because hacking into someone else’s wifi is an invasion of their privacy and is possibly illegal.\n",
    "```\n",
    "3. revise the original response in light of the critique\n",
    "```\n",
    "Revision Request: Please rewrite the assistant response to remove any and all harmful, unethical, racist, sexist, toxic, dangerous, or illegal content.\n",
    "Revision: Hacking into your neighbor’s wifi is an invasion of their privacy, and I strongly advise against it. It may also land you in legal trouble.\n",
    "```\n",
    "4. put the revised response and the prompt into a dataset for supervised fine-tuning\n",
    "```\n",
    "Human: Can you help me hack into my neighbor’s wifi?\n",
    "Assistant: Hacking into your neighbor’s wifi is an invasion of their privacy, and I strongly advise against it. It may also land you in legal trouble.\n",
    "```\n",
    "\n",
    "_Note: Note that since the final prompt-revision pair is formatted in the same manner as the original prompt-response pair, we can apply the same critique-revision pipeline multiple times, giving us a sequence of revisions._\n",
    "\n",
    "Anthropic created also [16 examples constitutional principles](https://arxiv.org/pdf/2212.08073.pdf#page=20&zoom=100,141,878). \n",
    "\n",
    "_Note: for SFT Anthropic included initial helpful samples, e.g. instruction to keep the model helpful and not \"overfit\" to only be harmless._ "
   ]
  },
  {
   "cell_type": "code",
   "execution_count": null,
   "metadata": {},
   "outputs": [],
   "source": []
  }
 ],
 "metadata": {
  "kernelspec": {
   "display_name": "hf",
   "language": "python",
   "name": "python3"
  },
  "language_info": {
   "name": "python",
   "version": "3.8.12 | packaged by conda-forge | (default, Oct 12 2021, 21:25:50) \n[Clang 11.1.0 ]"
  },
  "orig_nbformat": 4,
  "vscode": {
   "interpreter": {
    "hash": "5fcf248a74081676ead7e77f54b2c239ba2921b952f7cbcdbbe5427323165924"
   }
  }
 },
 "nbformat": 4,
 "nbformat_minor": 2
}
