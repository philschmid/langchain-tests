{
 "cells": [
  {
   "cell_type": "code",
   "execution_count": null,
   "metadata": {},
   "outputs": [],
   "source": [
    "# !pip install kor==0.8.0 markdownify\n",
    "!pip uninstall kor==0.8.0 markdownify -y\n"
   ]
  },
  {
   "cell_type": "code",
   "execution_count": null,
   "metadata": {},
   "outputs": [],
   "source": [
    "from bs4 import BeautifulSoup\n",
    "from bs4.element import Comment\n",
    "import urllib.request\n",
    "\n",
    "\n",
    "def tag_visible(element):\n",
    "    if element.parent.name in ['style', 'script', 'head', 'title', 'meta', '[document]']:\n",
    "        return False\n",
    "    if isinstance(element, Comment):\n",
    "        return False\n",
    "    return True\n",
    "\n",
    "\n",
    "def text_from_html(body):\n",
    "    soup = BeautifulSoup(body, 'html.parser')\n",
    "    texts = soup.findAll(text=True)\n",
    "    visible_texts = filter(tag_visible, texts)  \n",
    "    return u\" \".join(t.strip() for t in visible_texts)\n",
    "\n"
   ]
  },
  {
   "cell_type": "code",
   "execution_count": null,
   "metadata": {},
   "outputs": [],
   "source": [
    "from duckduckgo_search import ddg\n",
    "\n",
    "keywords = 'Wer ist der Direktor des ITZBund?'\n",
    "results = ddg(keywords, region='de-de', safesearch='On', time='y', max_results=3)\n",
    "results"
   ]
  },
  {
   "cell_type": "code",
   "execution_count": null,
   "metadata": {},
   "outputs": [],
   "source": [
    "from langchain.utilities import TextRequestsWrapper\n",
    "from kor.documents.html import MarkdownifyHTMLProcessor\n",
    "from langchain.schema import Document\n",
    "from langchain.text_splitter import RecursiveCharacterTextSplitter\n",
    "\n",
    "\n",
    "# requests = TextRequestsWrapper()\n",
    "# html = requests.get(results[0]['href'])\n",
    "html = urllib.request.urlopen(results[0]['href']).read()\n",
    "res = text_from_html(html)\n",
    "doc = Document(page_content=html)\n",
    "\n",
    "md = MarkdownifyHTMLProcessor((\"svg\", \"img\", \"script\", \"style\",\"a\")).process(doc)\n",
    "\n",
    "doc = Document(page_content=md.page_content.replace(\"\\n\", \" \").replace(\"  \", \" \").replace(\"|\", \"\").replace(\"*\", \"\").replace(\"-\",\"\"))\n",
    "split_docs = RecursiveCharacterTextSplitter().split_documents([doc])\n",
    "\n",
    "\n",
    "print(doc.page_content)"
   ]
  },
  {
   "cell_type": "code",
   "execution_count": null,
   "metadata": {},
   "outputs": [],
   "source": []
  }
 ],
 "metadata": {
  "kernelspec": {
   "display_name": "hf",
   "language": "python",
   "name": "python3"
  },
  "language_info": {
   "codemirror_mode": {
    "name": "ipython",
    "version": 3
   },
   "file_extension": ".py",
   "mimetype": "text/x-python",
   "name": "python",
   "nbconvert_exporter": "python",
   "pygments_lexer": "ipython3",
   "version": "3.8.12"
  },
  "orig_nbformat": 4
 },
 "nbformat": 4,
 "nbformat_minor": 2
}
