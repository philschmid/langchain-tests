{
 "cells": [
  {
   "attachments": {},
   "cell_type": "markdown",
   "metadata": {},
   "source": [
    "# Reposiotry to create Hugging Face Dataset for and from my blog\n",
    "\n",
    "It includes all blog posts from [philschmid.de](https://www.philschmid.de) as `jsonlines` file."
   ]
  },
  {
   "cell_type": "code",
   "execution_count": null,
   "metadata": {},
   "outputs": [],
   "source": [
    "%pip install -r requirements.txt --quiet"
   ]
  },
  {
   "attachments": {},
   "cell_type": "markdown",
   "metadata": {},
   "source": [
    "## Load `*.mdx` files from local path \n",
    "\n"
   ]
  },
  {
   "cell_type": "code",
   "execution_count": null,
   "metadata": {},
   "outputs": [],
   "source": [
    "from pathlib import Path\n",
    "import frontmatter\n",
    "\n",
    "blog_post_directory = \"/Users/philipp/Projects/personal/blog/philschmid-de-v2/data/blog\"\n",
    "blog_post_directory = Path(blog_post_directory)\n",
    "\n",
    "# create list of all files in the directory\n",
    "list_of_files = [file for file in blog_post_directory.glob(\"**/*.mdx\")]\n",
    "\n",
    "# iterate over all files and read with frontmatter into dictonary\n",
    "dataset_list = []\n",
    "for file in list_of_files:\n",
    "    post = frontmatter.load(file)\n",
    "    dataset_list.append({\n",
    "        \"title\": post[\"title\"],\n",
    "        \"url\": f\"https://www.philschmid.de/{Path(file).stem}\",\n",
    "        \"date\": post[\"date\"],\n",
    "        \"tags\": post[\"tags\"],\n",
    "        \"summary\": post[\"summary\"],        \n",
    "        \"content\": post.content\n",
    "    }\n",
    ")\n",
    "\n",
    "print(\"sample\")\n",
    "print(dataset_list[0])\n"
   ]
  },
  {
   "attachments": {},
   "cell_type": "markdown",
   "metadata": {},
   "source": [
    "create Hugging Face Dataset from dictonary"
   ]
  },
  {
   "cell_type": "code",
   "execution_count": null,
   "metadata": {},
   "outputs": [],
   "source": [
    "from datasets import Dataset\n",
    "\n",
    "# create dataset from list\n",
    "dataset = Dataset.from_list(dataset_list)"
   ]
  },
  {
   "attachments": {},
   "cell_type": "markdown",
   "metadata": {},
   "source": [
    "push dataset to hugging face"
   ]
  },
  {
   "cell_type": "code",
   "execution_count": null,
   "metadata": {},
   "outputs": [],
   "source": [
    "dataset.push_to_hub(\"philschmid/philschmid-de-blog\")"
   ]
  },
  {
   "cell_type": "code",
   "execution_count": null,
   "metadata": {},
   "outputs": [],
   "source": []
  }
 ],
 "metadata": {
  "kernelspec": {
   "display_name": "hf",
   "language": "python",
   "name": "python3"
  },
  "language_info": {
   "codemirror_mode": {
    "name": "ipython",
    "version": 3
   },
   "file_extension": ".py",
   "mimetype": "text/x-python",
   "name": "python",
   "nbconvert_exporter": "python",
   "pygments_lexer": "ipython3",
   "version": "3.8.12 | packaged by conda-forge | (default, Oct 12 2021, 21:25:50) \n[Clang 11.1.0 ]"
  },
  "orig_nbformat": 4,
  "vscode": {
   "interpreter": {
    "hash": "5fcf248a74081676ead7e77f54b2c239ba2921b952f7cbcdbbe5427323165924"
   }
  }
 },
 "nbformat": 4,
 "nbformat_minor": 2
}
