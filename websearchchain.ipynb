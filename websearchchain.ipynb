{
 "cells": [
  {
   "attachments": {},
   "cell_type": "markdown",
   "metadata": {},
   "source": [
    "# idea\n",
    "\n",
    "1. google search\n",
    "2. traifatura web page\n",
    "3. split web page in chunks \n",
    "4. embedd web page\n",
    "5. simiarity web page\n",
    "6. q&a llm \n",
    "\n"
   ]
  },
  {
   "cell_type": "code",
   "execution_count": null,
   "metadata": {},
   "outputs": [],
   "source": [
    "!pip install sentence-transformers trafilatura"
   ]
  },
  {
   "cell_type": "code",
   "execution_count": 2,
   "metadata": {},
   "outputs": [],
   "source": [
    "import os \n",
    "os.environ = {**os.environ, **{env.split(\"=\")[0]: env.split(\"=\")[1].strip() for env in open(\".env\", \"r\").readlines()}}"
   ]
  },
  {
   "cell_type": "code",
   "execution_count": 79,
   "metadata": {},
   "outputs": [],
   "source": [
    "from langchain.chains.base import Chain\n",
    "from langchain.utilities import GoogleSearchAPIWrapper\n",
    "from trafilatura import fetch_url, extract\n",
    "from trafilatura.settings import ConfigParser, use_config\n",
    "from typing import Dict, List\n",
    "from langchain.text_splitter import CharacterTextSplitter\n",
    "from transformers import AutoTokenizer\n",
    "from langchain.schema import Document\n",
    "from sentence_transformers.cross_encoder import CrossEncoder\n",
    "import numpy as np \n",
    "\n",
    "from duckduckgo_search import ddg\n",
    "\n",
    "def dgg_search(query, region='en-us', safesearch='On', time='m', num_results=3):\n",
    "    results = ddg(query, region=region, safesearch=safesearch, time=time, max_results=num_results)\n",
    "    return results\n",
    "\n",
    "\n",
    "class SearchWebsiteChainWithEncoder(Chain):\n",
    "    # search_engine = GoogleSearchAPIWrapper\n",
    "    top_k_search_results = 3\n",
    "    top_k_documents = 5\n",
    "    website_search_timeout = 5\n",
    "    website_retries=2\n",
    "    website_language = \"en\"\n",
    "    tokenizer_id = \"bert-base-uncased\"\n",
    "    cross_encoder_model = \"cross-encoder/ms-marco-MiniLM-L-6-v2\"\n",
    "    chunk_size = 200\n",
    "    \n",
    "    @property\n",
    "    def input_keys(self) -> List[str]:\n",
    "        return [\"query\"]\n",
    "\n",
    "    @property\n",
    "    def output_keys(self) -> List[str]:\n",
    "        return ['documents']\n",
    "\n",
    "    # Pydantic doesn't support post_init hooks, so we need to do this manually\n",
    "    @property\n",
    "    def tokenizer(self) -> List[str]:\n",
    "        return AutoTokenizer.from_pretrained(self.tokenizer_id)\n",
    "\n",
    "    @property\n",
    "    def text_splitter(self) -> List[str]:\n",
    "        return CharacterTextSplitter.from_huggingface_tokenizer(self.tokenizer, separator = \"\\n\", chunk_size=self.chunk_size, chunk_overlap=12)\n",
    "\n",
    "    @property\n",
    "    def trafilatura_config(self) -> List[str]:\n",
    "        c = use_config()\n",
    "        c.set('DEFAULT', 'DOWNLOAD_TIMEOUT', str(self.website_search_timeout))\n",
    "        c.set('DEFAULT', 'USER_AGENTS', \"Mozilla/5.0 (Windows NT 10.0; Win64; x64) AppleWebKit/537.36 (KHTML, like Gecko) Chrome/70.0.3538.102 Safari/537.36 Edge/18.19582\")\n",
    "        return c\n",
    "\n",
    "    @property\n",
    "    def cross_encoder(self) -> CrossEncoder:\n",
    "        return CrossEncoder(self.cross_encoder_model)\n",
    "    \n",
    "    def get_html_data(self ,url):        \n",
    "        downloaded = fetch_url(url, config=self.trafilatura_config)\n",
    "        return extract(downloaded,target_language=self.website_language, include_comments=False, include_formatting=False, include_tables=False, with_metadata=False)\n",
    "\n",
    "    def split_content_into_documents(self, content: List[Dict[str,str]]) -> List[str]:\n",
    "        metadata = [{\"source\": s[\"href\"]} for s in content]\n",
    "        # metadata = [{\"source\": s[\"link\"]} for s in content]\n",
    "        documents = [s[\"content\"] for s in content]\n",
    "        texts = self.text_splitter.create_documents(documents,metadatas=metadata)\n",
    "        return texts\n",
    "\n",
    "    def score_documents(self,query:str ,documents: List[Document]) -> List[Dict[str,str]]:\n",
    "        # So we create the respective sentence combinations\n",
    "        sentence_combinations = [[query, corpus_sentence.page_content] for corpus_sentence in documents]\n",
    "\n",
    "        # Compute the similarity scores for these combinations\n",
    "        similarity_scores = self.cross_encoder.predict(sentence_combinations)\n",
    "        # Sort the scores in decreasing order\n",
    "        sim_scores_argsort = reversed(np.argsort(similarity_scores))\n",
    "        # get top 2 results \n",
    "        top_results = []\n",
    "        for idx in list(sim_scores_argsort)[:self.top_k_documents]:\n",
    "            x = documents[idx]\n",
    "            x.metadata[\"score\"] = similarity_scores[idx]\n",
    "            top_results.append(x)\n",
    "        return top_results\n",
    "\n",
    "    def _call(self, inputs: Dict[str, str]) -> Dict[str, str]:\n",
    "        # define search query\n",
    "        query = inputs.get(\"query\")\n",
    "        \n",
    "        # search using search engine\n",
    "        # search_results = self.search_engine.results(query,num_results=self.top_k_search_results)\n",
    "        search_results = dgg_search(query,num_results=self.top_k_search_results)\n",
    "        # extract html data from search results\n",
    "        results_with_content = []\n",
    "        for result in search_results:\n",
    "            html = self.get_html_data(result[\"href\"])\n",
    "            # html = self.get_html_data(result[\"link\"])\n",
    "            if html: \n",
    "                results_with_content.append({**result, **{\"content\": html}})\n",
    "        \n",
    "        # convert search results into documents\n",
    "        documents = self.split_content_into_documents(results_with_content)\n",
    "        \n",
    "        # score documents\n",
    "        scored_documents = self.score_documents(query,documents)\n",
    "        \n",
    "        # search.results(query,num_results=3)\n",
    "        # output_1 = self.chain_1.run(inputs)\n",
    "        # output_2 = self.chain_2.run(inputs)\n",
    "        return {'documents': scored_documents}"
   ]
  },
  {
   "cell_type": "code",
   "execution_count": 80,
   "metadata": {},
   "outputs": [],
   "source": [
    "x = SearchWebsiteChainWithEncoder()"
   ]
  },
  {
   "cell_type": "code",
   "execution_count": 81,
   "metadata": {},
   "outputs": [
    {
     "name": "stdout",
     "output_type": "stream",
     "text": [
      "[{'title': 'Germany | Facts, Geography, Maps, & History | Britannica', 'href': 'https://www.britannica.com/place/Germany', 'body': \"Germany, officially Federal Republic of Germany, German Deutschland or Bundesrepublik Deutschland, country of north-central Europe, traversing the continent's main physical divisions, from the outer ranges of the Alps northward across the varied landscape of the Central German Uplands and then across the North German Plain. ... is the capital ...\"}, {'title': 'Berlin | History, Map, Population, Attractions, & Facts', 'href': 'https://www.britannica.com/place/Berlin', 'body': \"Berlin, capital and chief urban centre of Germany. The city lies at the heart of the North German Plain, athwart an east-west commercial and geographic axis that helped make it the capital of the kingdom of Prussia and then, from 1871, of a unified Germany. Berlin's former glory ended in 1945, but the city survived the destruction of World War II.\"}, {'title': 'Germany | Culture, Facts & Travel | - CountryReports', 'href': 'https://www.countryreports.org/country/Germany.htm', 'body': 'What is the capital of Germany? Capital Berlin Government Type Federal parliamentary republic Currency Euro (EUR) Total Area 137,846 Square Miles 357,022 Square Kilometers Location Central Europe, bordering the Baltic Sea and the North Sea, between the Netherlands and Poland, south of Denmark Language German GDP - real growth rate ...'}]\n"
     ]
    },
    {
     "name": "stderr",
     "output_type": "stream",
     "text": [
      "Created a chunk of size 248, which is longer than the specified 200\n",
      "Created a chunk of size 232, which is longer than the specified 200\n",
      "Created a chunk of size 221, which is longer than the specified 200\n",
      "Created a chunk of size 244, which is longer than the specified 200\n"
     ]
    },
    {
     "data": {
      "text/plain": [
       "[Document(page_content='Berlin\\nOur editors will review what you’ve submitted and determine whether to revise the article.\\nRecent News\\nWhere is Berlin located?\\nWhy was the Berlin Wall built around West Berlin?\\nWhat type of climate does Berlin have?\\nBerlin is famous for what cultural institutions?\\nBerlin is the capital of what country?\\nBerlin, capital and chief urban centre of Germany. The city lies at the heart of the North German Plain, athwart an east-west commercial and geographic axis that helped make it the capital of the kingdom of Prussia and then, from 1871, of a unified Germany. Berlin’s former glory ended in 1945, but the city survived the destruction of World War II. It was rebuilt and came to show amazing economic and cultural growth.', metadata={'source': 'https://www.britannica.com/place/Berlin', 'score': 5.5265813}),\n",
       " Document(page_content='One of Europe’s largest countries, Germany encompasses a wide variety of landscapes: the tall, sheer mountains of the south; the sandy, rolling plains of the north; the forested hills of the urbanized west; and the plains of the agricultural east. At the spiritual heart of the country is the magnificent east-central city of Berlin, which rose phoenixlike from the ashes of World War II and now, after decades of partition, is the capital of a reunified Germany, and the Rhine River, which flows northward from Switzerland and is celebrated in visual art, literature, folklore, and song. Along its banks and those of its principal tributaries—among them the Neckar, Main, Moselle, and Ruhr—stand hundreds of medieval castles, churches, picturesque villages, market towns, and centres of learning and culture, including Heidelberg, the site of one of Europe’s oldest universities (founded in 1386), and Mainz, historically one of Europe’s most important publishing centres. All are centrepieces of Germany’s thriving tourist economy, which brings millions of visitors to the country each year, drawn by its natural beauty, history, culture, and cuisine (including its renowned wines and beers).', metadata={'source': 'https://www.britannica.com/place/Germany', 'score': 4.774584}),\n",
       " Document(page_content='Germany’s division after the war put Berlin entirely within the territory of the German Democratic Republic (GDR, or East Germany). The city itself echoed the national partition—East Berlin being the capital of East Germany and West Berlin a Land (state) of the Federal Republic of Germany (FRG, or West Germany). West Berlin’s isolation was later reinforced by the concrete barrier erected in 1961 and known as the Berlin Wall. Its status as an enclave made Berlin a continuous focus of confrontation between the Eastern and Western powers as well as a symbol of Western lifestyle for 45 years. The fall of the East German communist regime—and the accompanying opening of the wall—in late 1989 unexpectedly raised the prospect for Berlin’s reinstatement as the all-German capital. That status was restored in 1990 under the terms of the unification treaty, and subsequently Berlin was designated a state, one of the 16 constituting Germany. These developments heralded the city’s return to its historic position of prominence in European culture and commerce. Area 344 square miles (891 square km). Pop. (2011) 3,292,365; (2021 est.) 3,677,472.', metadata={'source': 'https://www.britannica.com/place/Berlin', 'score': 2.9537077}),\n",
       " Document(page_content='Measuring approximately 23 miles (37 km) from north to south and 28 miles (45 km) from east to west, Berlin is by far the largest city in Germany. It is built mainly on sandy glacial soil amid an extensive belt of forest-rimmed lakes, formed from the waters of the Dahme River to the southeast and the Havel to the west; indeed, about one-third of the Greater Berlin area is still covered by sandy pine and mixed birch woods, lakes, and beaches. “Devil’s Mountain” (Teufelsberg), one of several hills constructed from the rubble left by World War II bombing, rises to 380 feet (116 metres) and has been turned into a winter sports area for skiing and sledding.\\nClimate', metadata={'source': 'https://www.britannica.com/place/Berlin', 'score': 0.1146916}),\n",
       " Document(page_content='The Third Reich disintegrated in 1945, brought down by the Allied armies of the United States, the United Kingdom, the Soviet Union, France, and other countries. The victorious powers divided Germany into four zones of occupation and later into two countries: the Federal Republic of Germany (West Germany) and the German Democratic Republic (East Germany), separated for more than 40 years by a long boundary. In East Germany this boundary was, until the fall of its communist government in 1989, marked by defenses designed to prevent escape. The 185 square miles (480 square km) of the “island” of West Berlin were similarly ringed from 1961 to 1989 by the Berlin Wall running through the city and by a heavily guarded wire-mesh fence in the areas abutting the East German countryside. Although Berlin was a flashpoint between the United States and the Soviet Union during the Cold War, the city declined in national and international significance until 1989–90, when a popular and peaceful uprising toppled the East German government and soon after restored a united Berlin as the capital of a reunified Germany.', metadata={'source': 'https://www.britannica.com/place/Germany', 'score': -1.8413953})]"
      ]
     },
     "execution_count": 81,
     "metadata": {},
     "output_type": "execute_result"
    }
   ],
   "source": [
    "x.run({\"query\": \"What is the capital of Germany?\"})"
   ]
  },
  {
   "cell_type": "code",
   "execution_count": 82,
   "metadata": {},
   "outputs": [],
   "source": [
    "from langchain.llms import HuggingFaceHub\n",
    "import os \n",
    "\n",
    "llm = HuggingFaceHub(repo_id=\"OpenAssistant/oasst-sft-4-pythia-12b-epoch-3.5\", \n",
    "                     huggingfacehub_api_token=os.environ[\"HF_API_KEY\"], \n",
    "                     model_kwargs={\"do_sample\": True, \"max_new_tokens\": 512, \"top_p\":0.6, \"temperature\":0.6 })\n",
    "\n",
    "# llm = HuggingFaceHub(repo_id=\"google/flan-ul2\", \n",
    "#                      huggingfacehub_api_token=os.environ[\"HF_API_KEY\"], \n",
    "#                      model_kwargs={\"do_sample\": True, \"max_new_tokens\": 512, \"top_p\":0.9, \"temperature\":0.3 })\n",
    "\n"
   ]
  },
  {
   "cell_type": "code",
   "execution_count": 83,
   "metadata": {},
   "outputs": [],
   "source": [
    "from langchain.chains import LLMChain\n",
    "from langchain.chains.base import Chain\n",
    "from typing import Any, Dict, List\n",
    "from langchain import PromptTemplate\n",
    "\n",
    "oa_prompt = PromptTemplate(\n",
    "  input_variables=[\"context\", \"question\"],\n",
    "  template=\"<|prompter|>Use the following pieces of context to answer the question at the end. If you don't know the answer, just say that you don't know, don't try to make up an answer.\\n\\n{context}\\n\\nQuestion: {question}\\nHelpful Answer:<|endoftext|><|assistant|>\"\n",
    ")\n",
    "\n",
    "\n",
    "class LLMWebSearchChain(Chain):\n",
    "    llm: Any\n",
    "    websearch = SearchWebsiteChainWithEncoder()\n",
    "    prompt: PromptTemplate = oa_prompt\n",
    "\n",
    "    @property\n",
    "    def input_keys(self) -> List[str]:\n",
    "        return [\"query\"]\n",
    "\n",
    "    @property\n",
    "    def output_keys(self) -> List[str]:\n",
    "        return ['answer']\n",
    "\n",
    "    def _call(self, inputs: Dict[str, str]) -> Dict[str, str]:\n",
    "        search_result = self.websearch.run(inputs)\n",
    "        format_prompt = self.prompt.format(context=\"\\n\".join([p.page_content for p in search_result]), question=inputs[\"query\"])\n",
    "        \n",
    "        answer = self.llm(format_prompt)\n",
    "        return {'answer': answer}"
   ]
  },
  {
   "cell_type": "code",
   "execution_count": 84,
   "metadata": {},
   "outputs": [],
   "source": [
    "\n",
    "x = SearchWebsiteChainWithEncoder(top_k_search_results=3,top_k_documents=5)\n",
    "search = LLMWebSearchChain(llm=llm, websearch=x)"
   ]
  },
  {
   "cell_type": "code",
   "execution_count": 85,
   "metadata": {},
   "outputs": [],
   "source": [
    "from langchain import OpenAI\n",
    "from langchain.llms import Anthropic\n",
    "\n",
    "\n",
    "# llm = OpenAI(temperature=0)\n",
    "# llm = Anthropic(temperature=0)"
   ]
  },
  {
   "cell_type": "code",
   "execution_count": 86,
   "metadata": {},
   "outputs": [
    {
     "name": "stdout",
     "output_type": "stream",
     "text": [
      "[{'title': 'Grizzly bear | Weight, Habitat, & Facts | Britannica', 'href': 'https://www.britannica.com/animal/grizzly-bear', 'body': 'Large adult grizzlies may be about 2.5 metres (8 feet) long and weigh about 410 kg (900 pounds). Because of their bulk and their long straight claws, grizzly bears rarely climb trees. They are, however, surprisingly agile and can run as fast as 56 km (35 miles) per hour over short distances.'}, {'title': 'Grizzly bear - Wikipedia', 'href': 'https://en.wikipedia.org/wiki/Grizzly_bear', 'body': 'In preparation for winter, bears can gain approximately 180 kg (400 lb), during a period of hyperphagia, before going into hibernation. [43] The bear often waits for a substantial snowstorm before it enters its den: such behavior lessens the chances that predators will find the den.'}, {'title': 'Bear Animal Facts | Ursidae - AZ Animals', 'href': 'https://a-z-animals.com/animals/bear/', 'body': 'Bear Physical Characteristics Color Brown Black White Skin Type Fur Top Speed 35 mph Lifespan 15 - 35 years Weight 27kg - 450kg (60lbs - 990lbs) Height 1.2m - 3.3m (4ft - 11ft) This post may contain affiliate links to our partners like Chewy, Amazon, and others.'}]\n"
     ]
    },
    {
     "name": "stderr",
     "output_type": "stream",
     "text": [
      "Created a chunk of size 215, which is longer than the specified 200\n",
      "Created a chunk of size 213, which is longer than the specified 200\n",
      "Created a chunk of size 363, which is longer than the specified 200\n",
      "Created a chunk of size 390, which is longer than the specified 200\n",
      "Created a chunk of size 264, which is longer than the specified 200\n",
      "Created a chunk of size 206, which is longer than the specified 200\n",
      "Created a chunk of size 216, which is longer than the specified 200\n",
      "Created a chunk of size 201, which is longer than the specified 200\n",
      "Created a chunk of size 207, which is longer than the specified 200\n",
      "Created a chunk of size 283, which is longer than the specified 200\n",
      "Created a chunk of size 250, which is longer than the specified 200\n",
      "Created a chunk of size 492, which is longer than the specified 200\n"
     ]
    },
    {
     "data": {
      "text/plain": [
       "'The average total length in this subspecies is between 198 cm (78 in) and 240 cm (94 in), with an average shoulder height of 102 cm (40 in) and hindfoot length of 28 cm (11 in). Newborn bears may weigh less than 500 g (18 oz).'"
      ]
     },
     "execution_count": 86,
     "metadata": {},
     "output_type": "execute_result"
    }
   ],
   "source": [
    "query=\"How tall can brown bears become?\"\n",
    "\n",
    "search.run(query)"
   ]
  },
  {
   "cell_type": "code",
   "execution_count": 87,
   "metadata": {},
   "outputs": [
    {
     "name": "stdout",
     "output_type": "stream",
     "text": [
      "[{'title': 'Grizzly bear | Weight, Habitat, & Facts | Britannica', 'href': 'https://www.britannica.com/animal/grizzly-bear', 'body': 'Large adult grizzlies may be about 2.5 metres (8 feet) long and weigh about 410 kg (900 pounds). Because of their bulk and their long straight claws, grizzly bears rarely climb trees. They are, however, surprisingly agile and can run as fast as 56 km (35 miles) per hour over short distances.'}, {'title': 'Grizzly bear - Wikipedia', 'href': 'https://en.wikipedia.org/wiki/Grizzly_bear', 'body': 'In preparation for winter, bears can gain approximately 180 kg (400 lb), during a period of hyperphagia, before going into hibernation. [43] The bear often waits for a substantial snowstorm before it enters its den: such behavior lessens the chances that predators will find the den.'}, {'title': 'American black bear - Wikipedia', 'href': 'https://en.wikipedia.org/wiki/American_black_bear', 'body': \"The American black bear (Ursus americanus), also known as the black bear or sometimes baribal, is a species of medium-sized bear endemic to North America.It is the continent's smallest and most widely distributed bear species. The American black bear is an omnivore, with its diet varying greatly depending on season and location.It typically lives in largely forested areas, but will leave ...\"}]\n"
     ]
    },
    {
     "name": "stderr",
     "output_type": "stream",
     "text": [
      "Created a chunk of size 215, which is longer than the specified 200\n",
      "Created a chunk of size 213, which is longer than the specified 200\n",
      "Created a chunk of size 363, which is longer than the specified 200\n",
      "Created a chunk of size 390, which is longer than the specified 200\n",
      "Created a chunk of size 264, which is longer than the specified 200\n",
      "Created a chunk of size 206, which is longer than the specified 200\n",
      "Created a chunk of size 216, which is longer than the specified 200\n",
      "Created a chunk of size 201, which is longer than the specified 200\n",
      "Created a chunk of size 207, which is longer than the specified 200\n",
      "Created a chunk of size 283, which is longer than the specified 200\n",
      "Created a chunk of size 250, which is longer than the specified 200\n",
      "Created a chunk of size 492, which is longer than the specified 200\n",
      "Created a chunk of size 251, which is longer than the specified 200\n",
      "Created a chunk of size 201, which is longer than the specified 200\n",
      "Created a chunk of size 297, which is longer than the specified 200\n",
      "Token indices sequence length is longer than the specified maximum sequence length for this model (517 > 512). Running this sequence through the model will result in indexing errors\n",
      "Created a chunk of size 517, which is longer than the specified 200\n",
      "Created a chunk of size 287, which is longer than the specified 200\n",
      "Created a chunk of size 304, which is longer than the specified 200\n",
      "Created a chunk of size 371, which is longer than the specified 200\n",
      "Created a chunk of size 236, which is longer than the specified 200\n",
      "Created a chunk of size 340, which is longer than the specified 200\n",
      "Created a chunk of size 222, which is longer than the specified 200\n",
      "Created a chunk of size 412, which is longer than the specified 200\n",
      "Created a chunk of size 349, which is longer than the specified 200\n",
      "Created a chunk of size 415, which is longer than the specified 200\n",
      "Created a chunk of size 244, which is longer than the specified 200\n",
      "Created a chunk of size 318, which is longer than the specified 200\n",
      "Created a chunk of size 206, which is longer than the specified 200\n",
      "Created a chunk of size 298, which is longer than the specified 200\n",
      "Created a chunk of size 206, which is longer than the specified 200\n"
     ]
    },
    {
     "data": {
      "text/plain": [
       "[Document(page_content='The populations in northern interior Canada are much smaller, with males weighing 139 kilograms (306 lb) and females weighing 95 kilograms (209 lb).This is actually similar to the American black bear population of the area.[19]\\nAverage total length in this subspecies is between 198 cm (78 in) and 240 cm (94 in),[20] with an average shoulder height of 102 cm (40 in) and hindfoot length of 28 cm (11 in).[21] Newborn bears may weigh less than 500 g (18 oz).\\nCharacteristics\\nAlthough variable in color from blond to nearly black, grizzly bear fur is typically brown with darker legs and commonly white or blond tipped fur on the flank and back.[22]\\nGrizzly bears overlap with Black Bears in range, but there are numerous factors that can differentiate the two.', metadata={'source': 'https://en.wikipedia.org/wiki/Grizzly_bear', 'score': 0.39579847}),\n",
       " Document(page_content='Coastal grizzlies, often referred to by the popular but geographically redundant synonym of \"brown bear\" or \"Alaskan brown bear\" are larger and darker than inland grizzlies, which is why they, too, were considered a different species from grizzlies. Kodiak Grizzly Bears were also at one time considered distinct. Therefore, at one time there were five different \"species\" of brown bear, including three in North America.[18]\\nAppearance\\nSize\\nGrizzly bears are some of the largest subspecies of Brown Bear, only being beaten by the Kamchatka brown bears and the Kodiak bears. Grizzly bears vary in size depending on timing and populations.\\nThe largest populations are the coastal grizzlies in the Alaskan peninsula, with males weighing 389 kilograms (858 lb) and females weighing 207 kilograms (456 lb).[19]', metadata={'source': 'https://en.wikipedia.org/wiki/Grizzly_bear', 'score': -0.43627596}),\n",
       " Document(page_content='Large adult grizzlies may be about 2.5 metres (8 feet) long and weigh about 410 kg (900 pounds). Because of their bulk and their long straight claws, grizzly bears rarely climb trees. They are, however, surprisingly agile and can run as fast as 56 km (35 miles) per hour over short distances. Their eyesight is poor, and they have been known to attack humans without evident provocation. Females with cubs are the most aggressive.', metadata={'source': 'https://www.britannica.com/animal/grizzly-bear', 'score': -0.5147539}),\n",
       " Document(page_content='The skulls of American black bears are broad, with narrow muzzles and large jaw hinges. In Virginia, the total length of adult bear skulls was found to average 262 to 317 mm (10.3 to 12.5 in).[41] Across its range, the greatest skull length for the species has been reportedly measured from 23.5 to 35 cm (9.3 to 13.8 in).[6][page needed] Females tend to have slenderer and more pointed faces than males. Their claws are typically black or grayish-brown. The claws are short and rounded, being thick at the base and tapering to a point. Claws from both hind and front legs are almost identical in length, though the foreclaws tend to be more sharply curved. The paws of the species are relatively large, with a rear foot length of 13.7 to 22.5 cm (5.4 to 8.9 in), which is proportionately larger than other medium-sized bear species, but much smaller than the paws of large adult brown, and especially polar, bears.[6][page needed] The soles of the feet are black or brownish and are naked, leathery and deeply wrinkled. The hind legs are relatively longer than those of Asian black bears. The vestigial tail is usually 4.8 inches (120 mm) long. The ears are small and rounded and are set well back on the head.', metadata={'source': 'https://en.wikipedia.org/wiki/American_black_bear', 'score': -0.63244367}),\n",
       " Document(page_content='In most of the contiguous United States, American black bears today are usually found in heavily vegetated mountainous areas, from 400 to 3,000 m (1,300 to 9,800 ft) in elevation. For American black bears living in the American Southwest and Mexico, habitat usually consists of stands of chaparral and pinyon juniper woods. In this region, bears occasionally move to more open areas to feed on prickly pear cactus. At least two distinct, prime habitat types are inhabited in the Southeastern United States. American black bears in the southern Appalachian Mountains survive in predominantly oak-hickory and mixed mesophytic forests. In the coastal areas of the Southeast (such as Florida, the Carolinas and Louisiana), bears inhabit a mixture of flatwoods, bays and swampy hardwood sites.', metadata={'source': 'https://en.wikipedia.org/wiki/American_black_bear', 'score': -1.4578586})]"
      ]
     },
     "execution_count": 87,
     "metadata": {},
     "output_type": "execute_result"
    }
   ],
   "source": [
    "x.run(query)"
   ]
  },
  {
   "cell_type": "code",
   "execution_count": 88,
   "metadata": {},
   "outputs": [
    {
     "data": {
      "text/plain": [
       "'Brown bears can grow up to 6 feet (2 meters) tall.'"
      ]
     },
     "execution_count": 88,
     "metadata": {},
     "output_type": "execute_result"
    }
   ],
   "source": [
    "\n",
    "llm(f\"<|prompter|>{query}<|endoftext|><|assistant|>\")"
   ]
  },
  {
   "cell_type": "code",
   "execution_count": null,
   "metadata": {},
   "outputs": [],
   "source": []
  }
 ],
 "metadata": {
  "kernelspec": {
   "display_name": "hf",
   "language": "python",
   "name": "python3"
  },
  "language_info": {
   "codemirror_mode": {
    "name": "ipython",
    "version": 3
   },
   "file_extension": ".py",
   "mimetype": "text/x-python",
   "name": "python",
   "nbconvert_exporter": "python",
   "pygments_lexer": "ipython3",
   "version": "3.8.12"
  },
  "orig_nbformat": 4
 },
 "nbformat": 4,
 "nbformat_minor": 2
}
